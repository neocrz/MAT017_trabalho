{
 "cells": [
  {
   "cell_type": "markdown",
   "id": "020549b9-232b-4ecd-afbd-afc82f9cbb96",
   "metadata": {},
   "source": [
    "# MAT017 - Cálculo\n",
    "## Trabalho - parte 3\n",
    "Resolvendo problema de distribuição de probabilidade utilizando o **Método de Monte Carlo**.\n",
    "\n",
    "Autores:\n",
    "- Fernando Gomes\n",
    "- Helena Barboza"
   ]
  },
  {
   "cell_type": "markdown",
   "id": "2836aa08-c4ba-4564-b95f-8a6ef3b9793e",
   "metadata": {},
   "source": [
    "## Problema\n",
    "Temos uma carteira de investimentos composta por dois ativos, A e B. As distribuições de retorno anual para esses ativos são conhecidas e são as seguintes:\n",
    "- O retorno do ativo A segue uma distribuição normal com média de 7% e desvio padrão de 10%.\n",
    "- O retorno do ativo B segue uma distribuição normal com média de 5% e desvio padrão de 8%.\n",
    "\n",
    "Investimos 50% do capital em cada ativo. Iremos calcular a probabilidade de a carteira ter um retorno anual negativo (ou seja, perder dinheiro) usando o **Método de Monte Carlo**."
   ]
  },
  {
   "cell_type": "code",
   "execution_count": 1,
   "id": "e66ee244-3e2a-461b-bf00-46cc53b7a0da",
   "metadata": {},
   "outputs": [
    {
     "name": "stdout",
     "output_type": "stream",
     "text": [
      "Requirement already satisfied: pymc in /home/eee/Projects/python/venv/lib/python3.10/site-packages (5.15.1)\n",
      "Requirement already satisfied: numpy in /home/eee/Projects/python/venv/lib/python3.10/site-packages (1.26.4)\n",
      "Requirement already satisfied: arviz in /home/eee/Projects/python/venv/lib/python3.10/site-packages (0.18.0)\n",
      "Requirement already satisfied: ipywidgets in /home/eee/Projects/python/venv/lib/python3.10/site-packages (8.1.3)\n",
      "Requirement already satisfied: matplotlib in /home/eee/Projects/python/venv/lib/python3.10/site-packages (3.9.0)\n",
      "Requirement already satisfied: cachetools>=4.2.1 in /home/eee/Projects/python/venv/lib/python3.10/site-packages (from pymc) (5.3.3)\n",
      "Requirement already satisfied: threadpoolctl<4.0.0,>=3.1.0 in /home/eee/Projects/python/venv/lib/python3.10/site-packages (from pymc) (3.5.0)\n",
      "Requirement already satisfied: scipy>=1.4.1 in /home/eee/Projects/python/venv/lib/python3.10/site-packages (from pymc) (1.13.1)\n",
      "Requirement already satisfied: pandas>=0.24.0 in /home/eee/Projects/python/venv/lib/python3.10/site-packages (from pymc) (2.2.2)\n",
      "Requirement already satisfied: rich>=13.7.1 in /home/eee/Projects/python/venv/lib/python3.10/site-packages (from pymc) (13.7.1)\n",
      "Requirement already satisfied: pytensor<2.23,>=2.22.1 in /home/eee/Projects/python/venv/lib/python3.10/site-packages (from pymc) (2.22.1)\n",
      "Requirement already satisfied: cloudpickle in /home/eee/Projects/python/venv/lib/python3.10/site-packages (from pymc) (3.0.0)\n",
      "Requirement already satisfied: typing-extensions>=3.7.4 in /home/eee/Projects/python/venv/lib/python3.10/site-packages (from pymc) (4.12.2)\n",
      "Requirement already satisfied: setuptools>=60.0.0 in /home/eee/Projects/python/venv/lib/python3.10/site-packages (from arviz) (70.0.0)\n",
      "Requirement already satisfied: packaging in /home/eee/Projects/python/venv/lib/python3.10/site-packages (from arviz) (24.1)\n",
      "Requirement already satisfied: xarray-einstats>=0.3 in /home/eee/Projects/python/venv/lib/python3.10/site-packages (from arviz) (0.7.0)\n",
      "Requirement already satisfied: dm-tree>=0.1.8 in /home/eee/Projects/python/venv/lib/python3.10/site-packages (from arviz) (0.1.8)\n",
      "Requirement already satisfied: xarray>=2022.6.0 in /home/eee/Projects/python/venv/lib/python3.10/site-packages (from arviz) (2024.6.0)\n",
      "Requirement already satisfied: h5netcdf>=1.0.2 in /home/eee/Projects/python/venv/lib/python3.10/site-packages (from arviz) (1.3.0)\n",
      "Requirement already satisfied: traitlets>=4.3.1 in /home/eee/Projects/python/venv/lib/python3.10/site-packages (from ipywidgets) (5.14.3)\n",
      "Requirement already satisfied: widgetsnbextension~=4.0.11 in /home/eee/Projects/python/venv/lib/python3.10/site-packages (from ipywidgets) (4.0.11)\n",
      "Requirement already satisfied: jupyterlab-widgets~=3.0.11 in /home/eee/Projects/python/venv/lib/python3.10/site-packages (from ipywidgets) (3.0.11)\n",
      "Requirement already satisfied: ipython>=6.1.0 in /home/eee/Projects/python/venv/lib/python3.10/site-packages (from ipywidgets) (8.25.0)\n",
      "Requirement already satisfied: comm>=0.1.3 in /home/eee/Projects/python/venv/lib/python3.10/site-packages (from ipywidgets) (0.2.2)\n",
      "Requirement already satisfied: pyparsing>=2.3.1 in /home/eee/Projects/python/venv/lib/python3.10/site-packages (from matplotlib) (3.1.2)\n",
      "Requirement already satisfied: cycler>=0.10 in /home/eee/Projects/python/venv/lib/python3.10/site-packages (from matplotlib) (0.12.1)\n",
      "Requirement already satisfied: kiwisolver>=1.3.1 in /home/eee/Projects/python/venv/lib/python3.10/site-packages (from matplotlib) (1.4.5)\n",
      "Requirement already satisfied: pillow>=8 in /home/eee/Projects/python/venv/lib/python3.10/site-packages (from matplotlib) (10.3.0)\n",
      "Requirement already satisfied: contourpy>=1.0.1 in /home/eee/Projects/python/venv/lib/python3.10/site-packages (from matplotlib) (1.2.1)\n",
      "Requirement already satisfied: fonttools>=4.22.0 in /home/eee/Projects/python/venv/lib/python3.10/site-packages (from matplotlib) (4.53.0)\n",
      "Requirement already satisfied: python-dateutil>=2.7 in /home/eee/Projects/python/venv/lib/python3.10/site-packages (from matplotlib) (2.9.0.post0)\n",
      "Requirement already satisfied: h5py in /home/eee/Projects/python/venv/lib/python3.10/site-packages (from h5netcdf>=1.0.2->arviz) (3.11.0)\n",
      "Requirement already satisfied: pygments>=2.4.0 in /home/eee/Projects/python/venv/lib/python3.10/site-packages (from ipython>=6.1.0->ipywidgets) (2.18.0)\n",
      "Requirement already satisfied: jedi>=0.16 in /home/eee/Projects/python/venv/lib/python3.10/site-packages (from ipython>=6.1.0->ipywidgets) (0.19.1)\n",
      "Requirement already satisfied: prompt-toolkit<3.1.0,>=3.0.41 in /home/eee/Projects/python/venv/lib/python3.10/site-packages (from ipython>=6.1.0->ipywidgets) (3.0.47)\n",
      "Requirement already satisfied: stack-data in /home/eee/Projects/python/venv/lib/python3.10/site-packages (from ipython>=6.1.0->ipywidgets) (0.6.3)\n",
      "Requirement already satisfied: decorator in /home/eee/Projects/python/venv/lib/python3.10/site-packages (from ipython>=6.1.0->ipywidgets) (5.1.1)\n",
      "Requirement already satisfied: exceptiongroup in /home/eee/Projects/python/venv/lib/python3.10/site-packages (from ipython>=6.1.0->ipywidgets) (1.2.1)\n",
      "Requirement already satisfied: pexpect>4.3 in /home/eee/Projects/python/venv/lib/python3.10/site-packages (from ipython>=6.1.0->ipywidgets) (4.9.0)\n",
      "Requirement already satisfied: matplotlib-inline in /home/eee/Projects/python/venv/lib/python3.10/site-packages (from ipython>=6.1.0->ipywidgets) (0.1.7)\n",
      "Requirement already satisfied: tzdata>=2022.7 in /home/eee/Projects/python/venv/lib/python3.10/site-packages (from pandas>=0.24.0->pymc) (2024.1)\n",
      "Requirement already satisfied: pytz>=2020.1 in /home/eee/Projects/python/venv/lib/python3.10/site-packages (from pandas>=0.24.0->pymc) (2024.1)\n",
      "Requirement already satisfied: logical-unification in /home/eee/Projects/python/venv/lib/python3.10/site-packages (from pytensor<2.23,>=2.22.1->pymc) (0.4.6)\n",
      "Requirement already satisfied: miniKanren in /home/eee/Projects/python/venv/lib/python3.10/site-packages (from pytensor<2.23,>=2.22.1->pymc) (1.0.3)\n",
      "Requirement already satisfied: filelock in /home/eee/Projects/python/venv/lib/python3.10/site-packages (from pytensor<2.23,>=2.22.1->pymc) (3.15.1)\n",
      "Requirement already satisfied: cons in /home/eee/Projects/python/venv/lib/python3.10/site-packages (from pytensor<2.23,>=2.22.1->pymc) (0.4.6)\n",
      "Requirement already satisfied: etuples in /home/eee/Projects/python/venv/lib/python3.10/site-packages (from pytensor<2.23,>=2.22.1->pymc) (0.3.9)\n",
      "Requirement already satisfied: six>=1.5 in /home/eee/Projects/python/venv/lib/python3.10/site-packages (from python-dateutil>=2.7->matplotlib) (1.16.0)\n",
      "Requirement already satisfied: markdown-it-py>=2.2.0 in /home/eee/Projects/python/venv/lib/python3.10/site-packages (from rich>=13.7.1->pymc) (3.0.0)\n",
      "Requirement already satisfied: parso<0.9.0,>=0.8.3 in /home/eee/Projects/python/venv/lib/python3.10/site-packages (from jedi>=0.16->ipython>=6.1.0->ipywidgets) (0.8.4)\n",
      "Requirement already satisfied: mdurl~=0.1 in /home/eee/Projects/python/venv/lib/python3.10/site-packages (from markdown-it-py>=2.2.0->rich>=13.7.1->pymc) (0.1.2)\n",
      "Requirement already satisfied: ptyprocess>=0.5 in /home/eee/Projects/python/venv/lib/python3.10/site-packages (from pexpect>4.3->ipython>=6.1.0->ipywidgets) (0.7.0)\n",
      "Requirement already satisfied: wcwidth in /home/eee/Projects/python/venv/lib/python3.10/site-packages (from prompt-toolkit<3.1.0,>=3.0.41->ipython>=6.1.0->ipywidgets) (0.2.13)\n",
      "Requirement already satisfied: toolz in /home/eee/Projects/python/venv/lib/python3.10/site-packages (from logical-unification->pytensor<2.23,>=2.22.1->pymc) (0.12.1)\n",
      "Requirement already satisfied: multipledispatch in /home/eee/Projects/python/venv/lib/python3.10/site-packages (from logical-unification->pytensor<2.23,>=2.22.1->pymc) (1.0.0)\n",
      "Requirement already satisfied: asttokens>=2.1.0 in /home/eee/Projects/python/venv/lib/python3.10/site-packages (from stack-data->ipython>=6.1.0->ipywidgets) (2.4.1)\n",
      "Requirement already satisfied: pure-eval in /home/eee/Projects/python/venv/lib/python3.10/site-packages (from stack-data->ipython>=6.1.0->ipywidgets) (0.2.2)\n",
      "Requirement already satisfied: executing>=1.2.0 in /home/eee/Projects/python/venv/lib/python3.10/site-packages (from stack-data->ipython>=6.1.0->ipywidgets) (2.0.1)\n"
     ]
    }
   ],
   "source": [
    "!pip install pymc numpy arviz ipywidgets matplotlib"
   ]
  },
  {
   "cell_type": "code",
   "execution_count": 2,
   "id": "6c6264b9-6820-48c4-b876-ab911dcf5382",
   "metadata": {},
   "outputs": [
    {
     "name": "stderr",
     "output_type": "stream",
     "text": [
      "WARNING (pytensor.tensor.blas): Using NumPy C-API based implementation for BLAS functions.\n"
     ]
    }
   ],
   "source": [
    "import pymc as pm\n",
    "import numpy as np\n",
    "import arviz as az\n",
    "import matplotlib.pyplot as plt\n",
    "\n",
    "# Parâmetros das distribuições\n",
    "mean_A = 0.07\n",
    "std_dev_A = 0.10\n",
    "mean_B = 0.05\n",
    "std_dev_B = 0.08\n",
    "\n",
    "# Número de simulações\n",
    "N = 50000"
   ]
  },
  {
   "cell_type": "markdown",
   "id": "541155f9-69ca-440d-a747-6099df90ac93",
   "metadata": {},
   "source": [
    "## distribuições dos retornos\n",
    "\n",
    "Ativo A: $R_A \\sim N(0.07, 0.10)$\n",
    "\n",
    "Ativo B: $R_B \\sim N(0.05, 0.8)$"
   ]
  },
  {
   "cell_type": "code",
   "execution_count": 3,
   "id": "9b356a58-3a03-44a2-989f-4480c237e9b5",
   "metadata": {},
   "outputs": [
    {
     "data": {
      "text/html": [
       "<pre style=\"white-space:pre;overflow-x:auto;line-height:normal;font-family:Menlo,'DejaVu Sans Mono',consolas,'Courier New',monospace\">Sampling 4 chains, 0 divergences <span style=\"color: #008000; text-decoration-color: #008000\">━━━━━━━━━━━━━━━━━━━━━━━━━━━━━━━━━━━━━━━━</span> <span style=\"color: #800080; text-decoration-color: #800080\">100%</span> <span style=\"color: #008080; text-decoration-color: #008080\">0:00:00</span> / <span style=\"color: #808000; text-decoration-color: #808000\">0:00:50</span>\n",
       "</pre>\n"
      ],
      "text/plain": [
       "Sampling 4 chains, 0 divergences \u001b[32m━━━━━━━━━━━━━━━━━━━━━━━━━━━━━━━━━━━━━━━━\u001b[0m \u001b[35m100%\u001b[0m \u001b[36m0:00:00\u001b[0m / \u001b[33m0:00:50\u001b[0m\n"
      ]
     },
     "metadata": {},
     "output_type": "display_data"
    },
    {
     "data": {
      "text/html": [
       "<pre style=\"white-space:pre;overflow-x:auto;line-height:normal;font-family:Menlo,'DejaVu Sans Mono',consolas,'Courier New',monospace\"></pre>\n"
      ],
      "text/plain": []
     },
     "metadata": {},
     "output_type": "display_data"
    },
    {
     "data": {
      "text/html": [
       "<pre style=\"white-space:pre;overflow-x:auto;line-height:normal;font-family:Menlo,'DejaVu Sans Mono',consolas,'Courier New',monospace\">\n",
       "</pre>\n"
      ],
      "text/plain": [
       "\n"
      ]
     },
     "metadata": {},
     "output_type": "display_data"
    },
    {
     "name": "stderr",
     "output_type": "stream",
     "text": [
      "Sampling 4 chains for 1_000 tune and 50_000 draw iterations (4_000 + 200_000 draws total) took 51 seconds.\n"
     ]
    }
   ],
   "source": [
    "# Definindo o modelo\n",
    "with pm.Model() as model:\n",
    "    # Distribuições dos retornos dos ativos\n",
    "    R_A = pm.Normal(\"R_A\", mu=mean_A, sigma=std_dev_A)\n",
    "    R_B = pm.Normal(\"R_B\", mu=mean_B, sigma=std_dev_B)\n",
    "    \n",
    "    # Retorno da carteira\n",
    "    R_C = 0.5 * R_A + 0.5 * R_B\n",
    "    \n",
    "    # Amostragem usando Monte Carlo via MCMC\n",
    "    # Aqui estamos aplicando o método de Monte Carlo para gerar amostras\n",
    "    trace = pm.sample(N, return_inferencedata=True)"
   ]
  },
  {
   "cell_type": "code",
   "execution_count": 4,
   "id": "21198329-8817-461e-8281-1baaf8a924d1",
   "metadata": {},
   "outputs": [],
   "source": [
    "# Análise dos resultados\n",
    "# Extraímos as amostras geradas para calcular os retornos da carteira\n",
    "returns_C = trace.posterior[\"R_A\"].values.flatten() * 0.5 + trace.posterior[\"R_B\"].values.flatten() * 0.5\n",
    "\n",
    "# Cálculo da probabilidade de retorno negativo\n",
    "# Contamos a proporção de amostras em que o retorno da carteira é negativo\n",
    "prob_negative_return = np.mean(returns_C < 0)"
   ]
  },
  {
   "cell_type": "code",
   "execution_count": 5,
   "id": "2b34647d-c23c-46c3-8293-8e1e7eca77b3",
   "metadata": {},
   "outputs": [],
   "source": [
    "# Resumo estatístico\n",
    "summary = az.summary(trace, var_names=[\"R_A\", \"R_B\"])\n",
    "summary_returns_C = {\n",
    "    'mean': np.mean(returns_C),\n",
    "    'std': np.std(returns_C),\n",
    "    '25%': np.percentile(returns_C, 25),\n",
    "    '50%': np.percentile(returns_C, 50),\n",
    "    '75%': np.percentile(returns_C, 75)\n",
    "}"
   ]
  },
  {
   "cell_type": "code",
   "execution_count": 6,
   "id": "f058c422-a910-4741-80a7-dc2b89605d89",
   "metadata": {},
   "outputs": [
    {
     "name": "stdout",
     "output_type": "stream",
     "text": [
      "-------------------- Resultados -------------------- \n",
      "\n",
      "Probabilidade de retorno negativo da carteira: 17.59%\n",
      "Probabilidade de retorno positivo da carteira: 82.41%\n",
      "Probabilidade de R_A ser maior que R_B: 56.36%\n",
      "\n",
      "Resumo estatístico dos retornos dos ativos:\n",
      "      mean    sd  hdi_3%  hdi_97%  mcse_mean  mcse_sd  ess_bulk  ess_tail  \\\n",
      "R_A  0.070  0.10  -0.117    0.258        0.0      0.0  210573.0  151165.0   \n",
      "R_B  0.049  0.08  -0.102    0.199        0.0      0.0  209146.0  150935.0   \n",
      "\n",
      "     r_hat  \n",
      "R_A    1.0  \n",
      "R_B    1.0  \n",
      "\n",
      "Resumo estatístico dos retornos da carteira:\n",
      "mean: 0.0597\n",
      "std: 0.0638\n",
      "25%: 0.0166\n",
      "50%: 0.0598\n",
      "75%: 0.1027\n"
     ]
    }
   ],
   "source": [
    "# Exibir os resultados\n",
    "print(\"-\" * 20+ \" Resultados \" + \"-\" * 20, \"\\n\")\n",
    "print(\"Probabilidade de retorno negativo da carteira: {:.2f}%\".format(prob_negative_return * 100))\n",
    "\n",
    "# Condição 1: Probabilidade de retorno positivo da carteira\n",
    "prob_positive_return = np.mean(returns_C > 0)\n",
    "print(\"Probabilidade de retorno positivo da carteira: {:.2f}%\".format(prob_positive_return * 100))\n",
    "\n",
    "# Condição 2: Probabilidade de R_A ser maior que R_B\n",
    "prob_A_higher_than_B = np.mean(trace.posterior[\"R_A\"].values.flatten() > trace.posterior[\"R_B\"].values.flatten())\n",
    "print(\"Probabilidade de R_A ser maior que R_B: {:.2f}%\".format(prob_A_higher_than_B * 100))\n",
    "\n",
    "print(\"\\nResumo estatístico dos retornos dos ativos:\")\n",
    "print(summary)\n",
    "print(\"\\nResumo estatístico dos retornos da carteira:\")\n",
    "for key, value in summary_returns_C.items():\n",
    "    print(f\"{key}: {value:.4f}\")"
   ]
  },
  {
   "cell_type": "code",
   "execution_count": 7,
   "id": "f6f78559-6c17-4483-a481-fa7d1c5df416",
   "metadata": {},
   "outputs": [
    {
     "data": {
      "image/png": "[encoded data removed]",
      "text/plain": [
       "<Figure size 1000x600 with 1 Axes>"
      ]
     },
     "metadata": {},
     "output_type": "display_data"
    }
   ],
   "source": [
    "# Plotando a distribuição dos retornos da carteira\n",
    "plt.figure(figsize=(10, 6))\n",
    "plt.hist(returns_C, bins=50, density=True, alpha=0.6, color='g')\n",
    "plt.title(\"Distribuição dos Retornos da Carteira\")\n",
    "plt.xlabel(\"Retorno\")\n",
    "plt.ylabel(\"Frequência\")\n",
    "plt.axvline(0, color='r', linestyle='dashed', linewidth=2)\n",
    "plt.show()"
   ]
  }
 ],
 "metadata": {
  "kernelspec": {
   "display_name": "Python 3 (ipykernel)",
   "language": "python",
   "name": "python3"
  },
  "language_info": {
   "codemirror_mode": {
    "name": "ipython",
    "version": 3
   },
   "file_extension": ".py",
   "mimetype": "text/x-python",
   "name": "python",
   "nbconvert_exporter": "python",
   "pygments_lexer": "ipython3",
   "version": "3.10.12"
  }
 },
 "nbformat": 4,
 "nbformat_minor": 5
}
