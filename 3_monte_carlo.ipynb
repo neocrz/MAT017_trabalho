{
 "cells": [
  {
   "cell_type": "markdown",
   "id": "020549b9-232b-4ecd-afbd-afc82f9cbb96",
   "metadata": {},
   "source": [
    "# MAT017 - Cálculo\n",
    "## Trabalho - parte 3\n",
    "Resolvendo a distribuição de weibus de probabilidade utilizando o **Método de Monte Carlo**.\n",
    "\n",
    "Autores:\n",
    "- Fernando Gomes\n",
    "- Helena Barboza"
   ]
  },
  {
   "cell_type": "markdown",
   "id": "2836aa08-c4ba-4564-b95f-8a6ef3b9793e",
   "metadata": {},
   "source": [
    "## Problema\n",
    "A distribuição de Weibull é frequentemente usada para modelar a vida útil de produtos, tempo até a falha de equipamentos, entre outros fenômenos.\n",
    "\n",
    "$$\n",
    "f(x; \\lambda, k) = \\frac{k}{\\lambda} \\left( \\frac{x}{\\lambda} \\right)^{k-1} \\exp \\left[ - \\left( \\frac{x}{\\lambda} \\right)^k \\right]\n",
    "$$\n",
    "\n",
    "Foram escolhidos os seguintes valores para os parâmetros da distribuição de Weibull:\n",
    "- Exemplo de Aplicação: Modelagem da vida útil de lâmpadas.\n",
    "    - Tempo médio até a falha (parâmetro de escala, $λ$): 1500.0 horas.\n",
    "    - Fator de forma ($k$): 1.8."
   ]
  },
  {
   "cell_type": "code",
   "execution_count": 1,
   "id": "e66ee244-3e2a-461b-bf00-46cc53b7a0da",
   "metadata": {},
   "outputs": [
    {
     "name": "stdout",
     "output_type": "stream",
     "text": [
      "Requirement already satisfied: pymc in /home/eee/Projects/python/venv/lib/python3.10/site-packages (5.15.1)\n",
      "Requirement already satisfied: numpy in /home/eee/Projects/python/venv/lib/python3.10/site-packages (1.26.4)\n",
      "Requirement already satisfied: arviz in /home/eee/Projects/python/venv/lib/python3.10/site-packages (0.18.0)\n",
      "Requirement already satisfied: ipywidgets in /home/eee/Projects/python/venv/lib/python3.10/site-packages (8.1.3)\n",
      "Requirement already satisfied: scipy>=1.4.1 in /home/eee/Projects/python/venv/lib/python3.10/site-packages (from pymc) (1.13.1)\n",
      "Requirement already satisfied: pandas>=0.24.0 in /home/eee/Projects/python/venv/lib/python3.10/site-packages (from pymc) (2.2.2)\n",
      "Requirement already satisfied: pytensor<2.23,>=2.22.1 in /home/eee/Projects/python/venv/lib/python3.10/site-packages (from pymc) (2.22.1)\n",
      "Requirement already satisfied: threadpoolctl<4.0.0,>=3.1.0 in /home/eee/Projects/python/venv/lib/python3.10/site-packages (from pymc) (3.5.0)\n",
      "Requirement already satisfied: typing-extensions>=3.7.4 in /home/eee/Projects/python/venv/lib/python3.10/site-packages (from pymc) (4.12.2)\n",
      "Requirement already satisfied: cloudpickle in /home/eee/Projects/python/venv/lib/python3.10/site-packages (from pymc) (3.0.0)\n",
      "Requirement already satisfied: cachetools>=4.2.1 in /home/eee/Projects/python/venv/lib/python3.10/site-packages (from pymc) (5.3.3)\n",
      "Requirement already satisfied: rich>=13.7.1 in /home/eee/Projects/python/venv/lib/python3.10/site-packages (from pymc) (13.7.1)\n",
      "Requirement already satisfied: xarray>=2022.6.0 in /home/eee/Projects/python/venv/lib/python3.10/site-packages (from arviz) (2024.6.0)\n",
      "Requirement already satisfied: matplotlib>=3.5 in /home/eee/Projects/python/venv/lib/python3.10/site-packages (from arviz) (3.9.0)\n",
      "Requirement already satisfied: h5netcdf>=1.0.2 in /home/eee/Projects/python/venv/lib/python3.10/site-packages (from arviz) (1.3.0)\n",
      "Requirement already satisfied: setuptools>=60.0.0 in /home/eee/Projects/python/venv/lib/python3.10/site-packages (from arviz) (70.0.0)\n",
      "Requirement already satisfied: xarray-einstats>=0.3 in /home/eee/Projects/python/venv/lib/python3.10/site-packages (from arviz) (0.7.0)\n",
      "Requirement already satisfied: packaging in /home/eee/Projects/python/venv/lib/python3.10/site-packages (from arviz) (24.1)\n",
      "Requirement already satisfied: dm-tree>=0.1.8 in /home/eee/Projects/python/venv/lib/python3.10/site-packages (from arviz) (0.1.8)\n",
      "Requirement already satisfied: comm>=0.1.3 in /home/eee/Projects/python/venv/lib/python3.10/site-packages (from ipywidgets) (0.2.2)\n",
      "Requirement already satisfied: traitlets>=4.3.1 in /home/eee/Projects/python/venv/lib/python3.10/site-packages (from ipywidgets) (5.14.3)\n",
      "Requirement already satisfied: widgetsnbextension~=4.0.11 in /home/eee/Projects/python/venv/lib/python3.10/site-packages (from ipywidgets) (4.0.11)\n",
      "Requirement already satisfied: jupyterlab-widgets~=3.0.11 in /home/eee/Projects/python/venv/lib/python3.10/site-packages (from ipywidgets) (3.0.11)\n",
      "Requirement already satisfied: ipython>=6.1.0 in /home/eee/Projects/python/venv/lib/python3.10/site-packages (from ipywidgets) (8.25.0)\n",
      "Requirement already satisfied: h5py in /home/eee/Projects/python/venv/lib/python3.10/site-packages (from h5netcdf>=1.0.2->arviz) (3.11.0)\n",
      "Requirement already satisfied: decorator in /home/eee/Projects/python/venv/lib/python3.10/site-packages (from ipython>=6.1.0->ipywidgets) (5.1.1)\n",
      "Requirement already satisfied: matplotlib-inline in /home/eee/Projects/python/venv/lib/python3.10/site-packages (from ipython>=6.1.0->ipywidgets) (0.1.7)\n",
      "Requirement already satisfied: exceptiongroup in /home/eee/Projects/python/venv/lib/python3.10/site-packages (from ipython>=6.1.0->ipywidgets) (1.2.1)\n",
      "Requirement already satisfied: jedi>=0.16 in /home/eee/Projects/python/venv/lib/python3.10/site-packages (from ipython>=6.1.0->ipywidgets) (0.19.1)\n",
      "Requirement already satisfied: prompt-toolkit<3.1.0,>=3.0.41 in /home/eee/Projects/python/venv/lib/python3.10/site-packages (from ipython>=6.1.0->ipywidgets) (3.0.47)\n",
      "Requirement already satisfied: pygments>=2.4.0 in /home/eee/Projects/python/venv/lib/python3.10/site-packages (from ipython>=6.1.0->ipywidgets) (2.18.0)\n",
      "Requirement already satisfied: stack-data in /home/eee/Projects/python/venv/lib/python3.10/site-packages (from ipython>=6.1.0->ipywidgets) (0.6.3)\n",
      "Requirement already satisfied: pexpect>4.3 in /home/eee/Projects/python/venv/lib/python3.10/site-packages (from ipython>=6.1.0->ipywidgets) (4.9.0)\n",
      "Requirement already satisfied: pyparsing>=2.3.1 in /home/eee/Projects/python/venv/lib/python3.10/site-packages (from matplotlib>=3.5->arviz) (3.1.2)\n",
      "Requirement already satisfied: contourpy>=1.0.1 in /home/eee/Projects/python/venv/lib/python3.10/site-packages (from matplotlib>=3.5->arviz) (1.2.1)\n",
      "Requirement already satisfied: pillow>=8 in /home/eee/Projects/python/venv/lib/python3.10/site-packages (from matplotlib>=3.5->arviz) (10.3.0)\n",
      "Requirement already satisfied: cycler>=0.10 in /home/eee/Projects/python/venv/lib/python3.10/site-packages (from matplotlib>=3.5->arviz) (0.12.1)\n",
      "Requirement already satisfied: python-dateutil>=2.7 in /home/eee/Projects/python/venv/lib/python3.10/site-packages (from matplotlib>=3.5->arviz) (2.9.0.post0)\n",
      "Requirement already satisfied: kiwisolver>=1.3.1 in /home/eee/Projects/python/venv/lib/python3.10/site-packages (from matplotlib>=3.5->arviz) (1.4.5)\n",
      "Requirement already satisfied: fonttools>=4.22.0 in /home/eee/Projects/python/venv/lib/python3.10/site-packages (from matplotlib>=3.5->arviz) (4.53.0)\n",
      "Requirement already satisfied: pytz>=2020.1 in /home/eee/Projects/python/venv/lib/python3.10/site-packages (from pandas>=0.24.0->pymc) (2024.1)\n",
      "Requirement already satisfied: tzdata>=2022.7 in /home/eee/Projects/python/venv/lib/python3.10/site-packages (from pandas>=0.24.0->pymc) (2024.1)\n",
      "Requirement already satisfied: cons in /home/eee/Projects/python/venv/lib/python3.10/site-packages (from pytensor<2.23,>=2.22.1->pymc) (0.4.6)\n",
      "Requirement already satisfied: miniKanren in /home/eee/Projects/python/venv/lib/python3.10/site-packages (from pytensor<2.23,>=2.22.1->pymc) (1.0.3)\n",
      "Requirement already satisfied: logical-unification in /home/eee/Projects/python/venv/lib/python3.10/site-packages (from pytensor<2.23,>=2.22.1->pymc) (0.4.6)\n",
      "Requirement already satisfied: filelock in /home/eee/Projects/python/venv/lib/python3.10/site-packages (from pytensor<2.23,>=2.22.1->pymc) (3.15.1)\n",
      "Requirement already satisfied: etuples in /home/eee/Projects/python/venv/lib/python3.10/site-packages (from pytensor<2.23,>=2.22.1->pymc) (0.3.9)\n",
      "Requirement already satisfied: markdown-it-py>=2.2.0 in /home/eee/Projects/python/venv/lib/python3.10/site-packages (from rich>=13.7.1->pymc) (3.0.0)\n",
      "Requirement already satisfied: parso<0.9.0,>=0.8.3 in /home/eee/Projects/python/venv/lib/python3.10/site-packages (from jedi>=0.16->ipython>=6.1.0->ipywidgets) (0.8.4)\n",
      "Requirement already satisfied: mdurl~=0.1 in /home/eee/Projects/python/venv/lib/python3.10/site-packages (from markdown-it-py>=2.2.0->rich>=13.7.1->pymc) (0.1.2)\n",
      "Requirement already satisfied: ptyprocess>=0.5 in /home/eee/Projects/python/venv/lib/python3.10/site-packages (from pexpect>4.3->ipython>=6.1.0->ipywidgets) (0.7.0)\n",
      "Requirement already satisfied: wcwidth in /home/eee/Projects/python/venv/lib/python3.10/site-packages (from prompt-toolkit<3.1.0,>=3.0.41->ipython>=6.1.0->ipywidgets) (0.2.13)\n",
      "Requirement already satisfied: six>=1.5 in /home/eee/Projects/python/venv/lib/python3.10/site-packages (from python-dateutil>=2.7->matplotlib>=3.5->arviz) (1.16.0)\n",
      "Requirement already satisfied: toolz in /home/eee/Projects/python/venv/lib/python3.10/site-packages (from logical-unification->pytensor<2.23,>=2.22.1->pymc) (0.12.1)\n",
      "Requirement already satisfied: multipledispatch in /home/eee/Projects/python/venv/lib/python3.10/site-packages (from logical-unification->pytensor<2.23,>=2.22.1->pymc) (1.0.0)\n",
      "Requirement already satisfied: executing>=1.2.0 in /home/eee/Projects/python/venv/lib/python3.10/site-packages (from stack-data->ipython>=6.1.0->ipywidgets) (2.0.1)\n",
      "Requirement already satisfied: asttokens>=2.1.0 in /home/eee/Projects/python/venv/lib/python3.10/site-packages (from stack-data->ipython>=6.1.0->ipywidgets) (2.4.1)\n",
      "Requirement already satisfied: pure-eval in /home/eee/Projects/python/venv/lib/python3.10/site-packages (from stack-data->ipython>=6.1.0->ipywidgets) (0.2.2)\n"
     ]
    }
   ],
   "source": [
    "!pip install pymc numpy arviz ipywidgets"
   ]
  },
  {
   "cell_type": "code",
   "execution_count": 2,
   "id": "6c6264b9-6820-48c4-b876-ab911dcf5382",
   "metadata": {},
   "outputs": [
    {
     "name": "stderr",
     "output_type": "stream",
     "text": [
      "WARNING (pytensor.tensor.blas): Using NumPy C-API based implementation for BLAS functions.\n"
     ]
    }
   ],
   "source": [
    "import numpy as np\n",
    "import pymc as pm\n",
    "import math\n",
    "\n",
    "# função da distribuição de Weibull (f.d.p)\n",
    "def weibull_fdp(x, lambda_val, k):\n",
    "    return (k / lambda_val) * (x / lambda_val)**(k - 1) * np.exp(-(x / lambda_val)**k)\n",
    "\n"
   ]
  },
  {
   "cell_type": "code",
   "execution_count": 3,
   "id": "6d5d9a44-4853-48d1-8924-a464bf475a6e",
   "metadata": {},
   "outputs": [],
   "source": [
    "# Parâmetros da distribuição de Weibull\n",
    "lambda_val = 1500.0  # Tempo médio até a falha em horas\n",
    "k = 1.8             # Fator de forma\n",
    "\n",
    "# Intervalo de integração escolhido\n",
    "base = 3000.0\n",
    "\n",
    "# Altura da pdf da Weibull em base\n",
    "altura = weibull_fdp(base, lambda_val, k)"
   ]
  },
  {
   "cell_type": "code",
   "execution_count": 4,
   "id": "72cb9441-da40-4a36-96da-36adbdd9612a",
   "metadata": {},
   "outputs": [
    {
     "name": "stderr",
     "output_type": "stream",
     "text": [
      "Auto-assigning NUTS sampler...\n",
      "Initializing NUTS using jitter+adapt_diag...\n",
      "Multiprocess sampling (4 chains in 4 jobs)\n",
      "NUTS: [X, Y]\n"
     ]
    },
    {
     "data": {
      "application/vnd.jupyter.widget-view+json": {
       "model_id": "3df0fd2f20254218a59ece2fe0964c82",
       "version_major": 2,
       "version_minor": 0
      },
      "text/plain": [
       "Output()"
      ]
     },
     "metadata": {},
     "output_type": "display_data"
    },
    {
     "data": {
      "text/html": [
       "<pre style=\"white-space:pre;overflow-x:auto;line-height:normal;font-family:Menlo,'DejaVu Sans Mono',consolas,'Courier New',monospace\"></pre>\n"
      ],
      "text/plain": []
     },
     "metadata": {},
     "output_type": "display_data"
    },
    {
     "data": {
      "text/html": [
       "<pre style=\"white-space:pre;overflow-x:auto;line-height:normal;font-family:Menlo,'DejaVu Sans Mono',consolas,'Courier New',monospace\">\n",
       "</pre>\n"
      ],
      "text/plain": [
       "\n"
      ]
     },
     "metadata": {},
     "output_type": "display_data"
    },
    {
     "name": "stderr",
     "output_type": "stream",
     "text": [
      "Sampling 4 chains for 1_000 tune and 1_000 draw iterations (4_000 + 4_000 draws total) took 31 seconds.\n",
      "The rhat statistic is larger than 1.01 for some parameters. This indicates problems during sampling. See https://arxiv.org/abs/1903.08008 for details\n"
     ]
    }
   ],
   "source": [
    "# Definção do modelo\n",
    "with pm.Model() as model:\n",
    "    X = pm.Uniform(\"X\", 0.1, base, shape=3000)\n",
    "    Y = pm.Uniform(\"Y\", 0, altura, shape=3000)\n",
    "\n",
    "    trace = pm.sample()\n",
    "\n",
    "amostrasX = trace.posterior[\"X\"].values[1][999]\n",
    "amostrasY = trace.posterior[\"Y\"].values[1][999]\n",
    "\n",
    "pedras = list(zip(amostrasX, amostrasY))"
   ]
  },
  {
   "cell_type": "code",
   "execution_count": 5,
   "id": "bf653de0-361c-4af3-9e63-f27fcc14b7fd",
   "metadata": {},
   "outputs": [
    {
     "name": "stdout",
     "output_type": "stream",
     "text": [
      "Área estimada: 0.19170519321253296\n"
     ]
    }
   ],
   "source": [
    "\n",
    "# Calculo da integral usando Monte Carlo\n",
    "ct = 0\n",
    "for (x, y) in pedras:\n",
    "    if y <= weibull_fdp(x, lambda_val, k):\n",
    "        ct += 1\n",
    "\n",
    "# Calcular área estimada sob a curva\n",
    "area = (base - 0.1) * altura * ct / len(pedras)\n",
    "print(f\"Área estimada: {area}\")"
   ]
  },
  {
   "cell_type": "code",
   "execution_count": null,
   "id": "4d74d500-f8be-48eb-ad28-6f0618dd53ef",
   "metadata": {},
   "outputs": [],
   "source": []
  }
 ],
 "metadata": {
  "kernelspec": {
   "display_name": "Python 3 (ipykernel)",
   "language": "python",
   "name": "python3"
  },
  "language_info": {
   "codemirror_mode": {
    "name": "ipython",
    "version": 3
   },
   "file_extension": ".py",
   "mimetype": "text/x-python",
   "name": "python",
   "nbconvert_exporter": "python",
   "pygments_lexer": "ipython3",
   "version": "3.10.12"
  }
 },
 "nbformat": 4,
 "nbformat_minor": 5
}
